{
  "nbformat": 4,
  "nbformat_minor": 0,
  "metadata": {
    "colab": {
      "name": "Untitled21.ipynb",
      "provenance": []
    },
    "kernelspec": {
      "name": "python3",
      "display_name": "Python 3"
    },
    "language_info": {
      "name": "python"
    }
  },
  "cells": [
    {
      "cell_type": "code",
      "metadata": {
        "id": "W395i40sUk82"
      },
      "source": [
        "class AnalysedText(object):\n",
        "  def __init__(self, text):\n",
        "    #remover pontuação:\n",
        "    formattedText = text.replace('.','').replace('!','').replace('?','').replace('!','')\n",
        "\n",
        "    #deixar tudo em minúsculas:\n",
        "    formattedText = formattedText.lower()\n",
        "\n",
        "    self.fmtText = formattedText\n",
        "\n",
        "  def freq(self):\n",
        "    wordlist = self.fmtText.split(' ')\n",
        "    #criar um dictionary\n",
        "    freqmap={}\n",
        "\n",
        "    for word in set(wordlist) :\n",
        "      freqmap[word] = wordlist.count(word)\n",
        "\n",
        "    return freqmap\n",
        "\n",
        "  def freqOf(self, word):\n",
        "    freqdict = self.freq\n",
        "\n",
        "    if word in freqdict:\n",
        "      return freqdict[word]\n",
        "\n",
        "    else:\n",
        "      return 0"
      ],
      "execution_count": 3,
      "outputs": []
    },
    {
      "cell_type": "code",
      "metadata": {
        "id": "r3EVJczPYYT0"
      },
      "source": [
        ""
      ],
      "execution_count": null,
      "outputs": []
    }
  ]
}